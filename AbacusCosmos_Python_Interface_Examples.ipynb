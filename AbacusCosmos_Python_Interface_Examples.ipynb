{
 "cells": [
  {
   "cell_type": "markdown",
   "metadata": {},
   "source": [
    "# AbacusCosmos Python Interface Examples"
   ]
  },
  {
   "cell_type": "markdown",
   "metadata": {},
   "source": [
    "This notebook demonstrates the basic usage of the `AbacusCosmos.Halos` and `AbacusCosmos.Halotools` halo catalog interfaces.\n",
    "\n",
    "The AbacusCosmos Python package is available here: https://github.com/lgarrison/AbacusCosmos\n",
    "\n",
    "The catalogs are documented on the data release website: https://lgarrison.github.io/AbacusCosmos/\n",
    "\n",
    "If you encounter problems with the catalogs/Python code, please [file an issue](https://github.com/lgarrison/AbacusCosmos).  Also be sure to check the [Data Specifications](https://lgarrison.github.io/AbacusCosmos/data_specifications/), as your issue may be covered there.\n",
    "\n",
    "Author: Lehman Garrison ([@lgarrison](https://github.com/lgarrison))"
   ]
  },
  {
   "cell_type": "markdown",
   "metadata": {},
   "source": [
    "## [Halos.py](https://github.com/lgarrison/AbacusCosmos/blob/master/AbacusCosmos/Halos.py)"
   ]
  },
  {
   "cell_type": "code",
   "execution_count": 1,
   "metadata": {
    "collapsed": true
   },
   "outputs": [],
   "source": [
    "from AbacusCosmos import Halos\n",
    "\n",
    "import matplotlib.pyplot as plt\n",
    "%matplotlib inline\n",
    "import numpy as np"
   ]
  },
  {
   "cell_type": "markdown",
   "metadata": {},
   "source": [
    "### Load a single halo Rockstar catalog with particle subsamples:"
   ]
  },
  {
   "cell_type": "code",
   "execution_count": 2,
   "metadata": {
    "collapsed": true
   },
   "outputs": [],
   "source": [
    "# The path to the catalog will be different on your system\n",
    "cat = Halos.make_catalog_from_dir(dirname='/mnt/store2/bigsim_products/AbacusCosmos_1100box_products/AbacusCosmos_1100box_00_products/AbacusCosmos_1100box_00_rockstar_halos/z0.300',\n",
    "                                  load_subsamples=True, load_pids=False)\n",
    "halos = cat.halos\n",
    "halo_1000 = halos[1000]\n",
    "subsamples = cat.subsamples"
   ]
  },
  {
   "cell_type": "code",
   "execution_count": 3,
   "metadata": {
    "scrolled": false
   },
   "outputs": [
    {
     "name": "stdout",
     "output_type": "stream",
     "text": [
      "A : [ 53.04890823   5.39909792  -9.3987608 ]\n",
      "A2 : [ 39.85029221   6.90763903  -7.76677895]\n",
      "J : [ -1.96935156e+13   2.79465133e+13  -1.44266725e+13]\n",
      "N : 155\n",
      "N_SO : 983\n",
      "Voff : 29.6215\n",
      "Xoff : 22.5928\n",
      "alt_N : [135 121  91  29]\n",
      "alt_N_SO : [983 983 983  48]\n",
      "alt_m : [  5.03707704e+12   4.51471370e+12   3.39536301e+12   1.08203881e+12]\n",
      "alt_m_SO : [  3.66773849e+13   3.66773849e+13   3.66773849e+13   1.79096073e+12]\n",
      "b_to_a : 0.462127\n",
      "b_to_a2 : 0.381544\n",
      "bulkvel : [ -663.75305176    93.82868958 -1657.2800293 ]\n",
      "bullock_spin : 0.0713309\n",
      "c_to_a : 0.330447\n",
      "c_to_a2 : 0.274972\n",
      "child_r : 0.439964\n",
      "corevel : [ -682.87280273   108.45961761 -1700.54968262]\n",
      "desc : 0\n",
      "energy : -9.7564e+16\n",
      "flags : 25\n",
      "halfmass_radius : 154.012\n",
      "id : 298710\n",
      "kin_to_pot : 0.726075\n",
      "klypin_rs : 49.5365\n",
      "m : 5.78331e+12\n",
      "m_SO : 3.66774e+13\n",
      "m_pe_b : 5.29508e+12\n",
      "m_pe_d : 3.5073e+12\n",
      "mgrav : 4.7759e+12\n",
      "min_bulkvel_err : 984.373\n",
      "min_pos_err : 0.000250784\n",
      "min_vel_err : 1050.16\n",
      "n_core : 98\n",
      "num_child_particles : 206\n",
      "num_p : 206\n",
      "p_start : 73900406\n",
      "parent_id : 298727\n",
      "pos : [ 426.9362793    15.22821426  237.38449097]\n",
      "r : 375.432\n",
      "rs : 55.4336\n",
      "rvmax : 237.906\n",
      "spin : 0.0540608\n",
      "subsamp_len : 18\n",
      "subsamp_start : 40967\n",
      "vel : [ -682.87280273   108.45961761 -1700.54968262]\n",
      "vmax : 303.445\n",
      "vmax_r : 0.431498\n",
      "vrms : 326.531\n"
     ]
    }
   ],
   "source": [
    "for field in sorted(halo_1000.dtype.fields):\n",
    "    print field, ':', halo_1000[field]"
   ]
  },
  {
   "cell_type": "markdown",
   "metadata": {},
   "source": [
    "The subsample particles should be near the halo location of `(426.9362793, 15.22821426, 237.38449097)`, and indeed they are:"
   ]
  },
  {
   "cell_type": "code",
   "execution_count": 4,
   "metadata": {
    "scrolled": false
   },
   "outputs": [
    {
     "name": "stdout",
     "output_type": "stream",
     "text": [
      "[[ 426.91430664   15.24571419  237.90284729]\n",
      " [ 427.37713623   15.36857128  237.59571838]\n",
      " [ 427.23428345   15.09571362  237.58428955]\n",
      " [ 426.9442749    15.06714249  237.53713989]\n",
      " [ 426.88571167   15.22571373  237.47570801]\n",
      " [ 426.90570068   15.15857124  237.44285583]\n",
      " [ 426.75427246   15.26714325  237.44142151]\n",
      " [ 427.12286377   15.10857201  237.41999817]\n",
      " [ 427.16430664   15.28857136  237.35858154]\n",
      " [ 426.79858398   15.33000088  237.34571838]\n",
      " [ 426.95858765   15.26571369  237.34143066]\n",
      " [ 426.99429321   15.20714283  237.32713318]\n",
      " [ 426.67285156   15.55428505  237.28141785]\n",
      " [ 426.94857788   15.18714333  237.27999878]\n",
      " [ 427.09716797   15.38714218  237.17857361]\n",
      " [ 426.53857422   15.37285709  237.11143494]\n",
      " [ 426.64715576   15.35000038  236.78427124]\n",
      " [ 427.05999756   15.08571434  236.7285614 ]]\n"
     ]
    }
   ],
   "source": [
    "particles_for_halo_1000 = subsamples[halo_1000['subsamp_start']:halo_1000['subsamp_start']+halo_1000['subsamp_len']]\n",
    "print particles_for_halo_1000['pos']"
   ]
  },
  {
   "cell_type": "markdown",
   "metadata": {},
   "source": [
    "### Filter out subhalos:"
   ]
  },
  {
   "cell_type": "markdown",
   "metadata": {},
   "source": [
    "Note that the above halo is actually a subhalo since its `parent_id` is not `-1`.  Let's see what fraction of Rockstar halos are actually subhalos:"
   ]
  },
  {
   "cell_type": "code",
   "execution_count": 5,
   "metadata": {},
   "outputs": [
    {
     "data": {
      "text/plain": [
       "0.094740065311804428"
      ]
     },
     "execution_count": 5,
     "metadata": {},
     "output_type": "execute_result"
    }
   ],
   "source": [
    "(halos['parent_id'] != -1).mean()"
   ]
  },
  {
   "cell_type": "markdown",
   "metadata": {},
   "source": [
    "So about 10% are subhalos.  For some analyses you might want to only include top-level parent halos, since Rockstar halo masses always include substructure mass:"
   ]
  },
  {
   "cell_type": "code",
   "execution_count": 6,
   "metadata": {},
   "outputs": [
    {
     "name": "stdout",
     "output_type": "stream",
     "text": [
      "# halos before subhalo filtering: 9565499\n",
      "# halos after subhalo filtering: 8659263\n"
     ]
    }
   ],
   "source": [
    "print '# halos before subhalo filtering:', len(halos)\n",
    "halos = halos[halos['parent_id'] == -1]\n",
    "print '# halos after subhalo filtering:', len(halos)"
   ]
  },
  {
   "cell_type": "markdown",
   "metadata": {},
   "source": [
    "### Load all redshifts of a FoF catalog:"
   ]
  },
  {
   "cell_type": "code",
   "execution_count": 9,
   "metadata": {},
   "outputs": [],
   "source": [
    "cats_by_z = Halos.make_catalogs(sim_name='emulator_1100box_planck_00',\n",
    "                                products_dir='/mnt/alan1/lgarrison/bigsim_products/emulator_1100box_planck_products/',\n",
    "                                redshifts='all', load_phases=False, load_subsamples=False, halo_type='FoF')"
   ]
  },
  {
   "cell_type": "markdown",
   "metadata": {},
   "source": [
    "We can plot the evolution of the halo mass function with redshift:"
   ]
  },
  {
   "cell_type": "code",
   "execution_count": 10,
   "metadata": {
    "scrolled": true
   },
   "outputs": [
    {
     "data": {
      "text/plain": [
       "<matplotlib.legend.Legend at 0x7fcc193639d0>"
      ]
     },
     "execution_count": 10,
     "metadata": {},
     "output_type": "execute_result"
    },
    {
     "data": {
      "image/png": "[encoded data removed]",
      "text/plain": [
       "<matplotlib.figure.Figure at 0x7fcc192741d0>"
      ]
     },
     "metadata": {},
     "output_type": "display_data"
    }
   ],
   "source": [
    "fig, ax = plt.subplots()\n",
    "for z in sorted(cats_by_z.keys()):\n",
    "    cat = cats_by_z[z]\n",
    "    bin_edges, bin_centers, hist = Halos.halo_mass_hist(cat.halos[0]['N'])\n",
    "    ax.loglog(bin_centers, hist, label='$z = {:.2f}$'.format(z))\n",
    "ax.set_xlabel('Halo mass [# of particles]')\n",
    "ax.set_ylabel('Number of halos')\n",
    "ax.legend()"
   ]
  },
  {
   "cell_type": "markdown",
   "metadata": {},
   "source": [
    "## [Halotools.py](https://github.com/lgarrison/AbacusCosmos/blob/master/AbacusCosmos/Halotools.py)"
   ]
  },
  {
   "cell_type": "code",
   "execution_count": 11,
   "metadata": {
    "collapsed": true
   },
   "outputs": [],
   "source": [
    "from AbacusCosmos import Halotools\n",
    "import halotools\n",
    "\n",
    "import matplotlib.pyplot as plt\n",
    "%matplotlib inline\n",
    "import numpy as np"
   ]
  },
  {
   "cell_type": "markdown",
   "metadata": {},
   "source": [
    "### Load two different cosmologies at redshift 0.1:"
   ]
  },
  {
   "cell_type": "code",
   "execution_count": 12,
   "metadata": {
    "collapsed": true
   },
   "outputs": [],
   "source": [
    "cats = Halotools.make_catalogs(sim_name='AbacusCosmos_720box', cosmologies=[0,1], redshifts=0.1,\n",
    "                                products_dir='/mnt/store2/bigsim_products/AbacusCosmos_720box_products/',\n",
    "                                phases=None, halo_type='Rockstar', load_halo_ptcl_catalog=False)"
   ]
  },
  {
   "cell_type": "markdown",
   "metadata": {},
   "source": [
    "Generate mock galaxy catalogs for both:"
   ]
  },
  {
   "cell_type": "code",
   "execution_count": 13,
   "metadata": {
    "collapsed": true
   },
   "outputs": [],
   "source": [
    "for cat in cats:\n",
    "    # First apply an arbitrary mass cut to make the example run faster\n",
    "    cat.halo_table = cat.halo_table[cat.halo_table['halo_N'] >= 100]\n",
    "    # Make an approximate concentration column for mock purposes\n",
    "    cat.halo_table['halo_conc'] = cat.halo_table['halo_rvir'] / cat.halo_table['halo_klypin_rs']"
   ]
  },
  {
   "cell_type": "code",
   "execution_count": 14,
   "metadata": {
    "collapsed": true
   },
   "outputs": [],
   "source": [
    "from halotools.empirical_models import PrebuiltHodModelFactory\n",
    "models = []\n",
    "for cat in cats:\n",
    "    model = PrebuiltHodModelFactory('zheng07', redshift=cats[0].redshift, concentration_key='halo_conc')\n",
    "    model.populate_mock(cat)\n",
    "    models += [model]"
   ]
  },
  {
   "cell_type": "markdown",
   "metadata": {},
   "source": [
    "Compute the 2PCF on the mock galaxies:"
   ]
  },
  {
   "cell_type": "code",
   "execution_count": 15,
   "metadata": {
    "collapsed": true
   },
   "outputs": [],
   "source": [
    "import Corrfunc\n",
    "bins = np.logspace(-1,1.5,25)\n",
    "bin_centers = (bins[:-1] + bins[1:])/2.\n",
    "tpcfs = []\n",
    "for model in models:\n",
    "    gals = model.mock.galaxy_table\n",
    "    results = Corrfunc.theory.xi(X=gals['x'], Y=gals['y'], Z=gals['z'],\n",
    "                            boxsize=model.mock.BoxSize, nthreads=4,\n",
    "                            binfile=bins)\n",
    "    tpcfs += [results]"
   ]
  },
  {
   "cell_type": "code",
   "execution_count": 16,
   "metadata": {},
   "outputs": [
    {
     "data": {
      "text/plain": [
       "<matplotlib.text.Text at 0x7fcc09fcaa50>"
      ]
     },
     "execution_count": 16,
     "metadata": {},
     "output_type": "execute_result"
    },
    {
     "data": {
      "image/png": "[encoded data removed]",
      "text/plain": [
       "<matplotlib.figure.Figure at 0x7fcc06c6a610>"
      ]
     },
     "metadata": {},
     "output_type": "display_data"
    }
   ],
   "source": [
    "plt.loglog(bin_centers, tpcfs[0]['xi'], label=cats[0].SimName)\n",
    "plt.loglog(bin_centers, tpcfs[1]['xi'], label=cats[1].SimName)\n",
    "plt.legend()\n",
    "plt.xlabel(r'galaxy separation $s$ [Mpc/h]')\n",
    "plt.ylabel(r'$\\xi(s)$')"
   ]
  },
  {
   "cell_type": "markdown",
   "metadata": {},
   "source": [
    "### Print the particle subsamples for the 1000th halo in the second cosmology:"
   ]
  },
  {
   "cell_type": "code",
   "execution_count": 17,
   "metadata": {
    "collapsed": true
   },
   "outputs": [],
   "source": [
    "cats = Halotools.make_catalogs(sim_name='AbacusCosmos_720box', cosmologies=[0,1], redshifts=0.1,\n",
    "                                products_dir='/mnt/store2/bigsim_products/AbacusCosmos_720box_products/',\n",
    "                                phases=None, halo_type='Rockstar', load_halo_ptcl_catalog=True)"
   ]
  },
  {
   "cell_type": "code",
   "execution_count": 18,
   "metadata": {
    "collapsed": true
   },
   "outputs": [],
   "source": [
    "halos = cats[1].halo_table\n",
    "subsamples = cats[1].halo_ptcl_table\n",
    "i = 999"
   ]
  },
  {
   "cell_type": "code",
   "execution_count": 19,
   "metadata": {},
   "outputs": [
    {
     "data": {
      "text/html": [
       "&lt;Row index=999&gt;\n",
       "<table id=\"table140514219953936\">\n",
       "<thead><tr><th>halo_upid</th><th>halo_A2 [3]</th><th>halo_num_child_particles</th><th>halo_corevel [3]</th><th>halo_energy</th><th>halo_min_vel_err</th><th>halo_p_start</th><th>halo_desc</th><th>halo_rvmax</th><th>halo_rvir</th><th>halo_vx</th><th>halo_bullock_spin</th><th>halo_vmax_r</th><th>halo_min_pos_err</th><th>halo_m_pe_d</th><th>halo_b_to_a2</th><th>halo_m_pe_b</th><th>halo_child_r</th><th>halo_c_to_a2</th><th>halo_mgrav</th><th>halo_A [3]</th><th>halo_alt_m [4]</th><th>halo_mvir</th><th>halo_num_p</th><th>halo_subsamp_start</th><th>halo_N_SO</th><th>halo_spin</th><th>halo_subsamp_len</th><th>halo_b_to_a</th><th>halo_x</th><th>halo_z</th><th>halo_m_SO</th><th>halo_c_to_a</th><th>halo_n_core</th><th>halo_alt_N [4]</th><th>halo_min_bulkvel_err</th><th>halo_vrms</th><th>halo_Voff</th><th>halo_bulkvel [3]</th><th>halo_alt_N_SO [4]</th><th>halo_vmax</th><th>halo_alt_m_SO [4]</th><th>halo_y</th><th>halo_Xoff</th><th>halo_id</th><th>halo_halfmass_radius</th><th>halo_vy</th><th>halo_vz</th><th>halo_flags</th><th>halo_klypin_rs</th><th>halo_rs</th><th>halo_kin_to_pot</th><th>halo_N</th><th>halo_J [3]</th><th>halo_hostid</th></tr></thead>\n",
       "<thead><tr><th>int64</th><th>float32</th><th>int64</th><th>float32</th><th>float32</th><th>float32</th><th>int64</th><th>int64</th><th>float32</th><th>float32</th><th>float32</th><th>float32</th><th>float32</th><th>float32</th><th>float32</th><th>float32</th><th>float32</th><th>float32</th><th>float32</th><th>float32</th><th>float32</th><th>float32</th><th>float32</th><th>int64</th><th>int64</th><th>int32</th><th>float32</th><th>int64</th><th>float32</th><th>float32</th><th>float32</th><th>float32</th><th>float32</th><th>int64</th><th>int32</th><th>float32</th><th>float32</th><th>float32</th><th>float32</th><th>int32</th><th>float32</th><th>float32</th><th>float32</th><th>float32</th><th>int64</th><th>float32</th><th>float32</th><th>float32</th><th>int64</th><th>float32</th><th>float32</th><th>float32</th><th>int32</th><th>float32</th><th>int64</th></tr></thead>\n",
       "<tr><td>569974</td><td>14.8675 .. -12.6811</td><td>207</td><td>-152.748 .. -599.933</td><td>-7.82279e+15</td><td>751.386</td><td>32769850</td><td>0</td><td>0.0342442</td><td>0.202554</td><td>-152.748</td><td>0.0234053</td><td>0.267052</td><td>4.50487e-05</td><td>3.90289e+11</td><td>0.947171</td><td>1.33911e+12</td><td>0.000278079</td><td>0.597965</td><td>9.18326e+11</td><td>-1.91093 .. 25.4669</td><td>9.18326e+11 .. 3.90289e+11</td><td>1.44636e+12</td><td>207</td><td>50850</td><td>841</td><td>0.020859</td><td>17</td><td>0.655851</td><td>31.8827</td><td>145.677</td><td>9.6539e+12</td><td>0.514556</td><td>53</td><td>80 .. 34</td><td>751.386</td><td>203.216</td><td>18.2015</td><td>-152.748 .. -599.933</td><td>841 .. 46</td><td>195.099</td><td>9.6539e+12 .. 5.28038e+11</td><td>45.7946</td><td>13.8211</td><td>569976</td><td>0.059089</td><td>859.761</td><td>-599.933</td><td>25</td><td>0.0133996</td><td>0.0133996</td><td>0.708265</td><td>126</td><td>-5.92084e+11 .. 5.50002e+11</td><td>569974</td></tr>\n",
       "</table>"
      ],
      "text/plain": [
       "<Row index=999>\n",
       "halo_upid     halo_A2 [3]     halo_num_child_particles   halo_corevel [3]   halo_energy  halo_min_vel_err halo_p_start halo_desc halo_rvmax halo_rvir halo_vx  halo_bullock_spin halo_vmax_r halo_min_pos_err halo_m_pe_d halo_b_to_a2 halo_m_pe_b halo_child_r halo_c_to_a2  halo_mgrav      halo_A [3]           halo_alt_m [4]        halo_mvir  halo_num_p halo_subsamp_start halo_N_SO halo_spin halo_subsamp_len halo_b_to_a  halo_x  halo_z halo_m_SO  halo_c_to_a halo_n_core halo_alt_N [4] halo_min_bulkvel_err halo_vrms halo_Voff   halo_bulkvel [3]   halo_alt_N_SO [4] halo_vmax     halo_alt_m_SO [4]      halo_y halo_Xoff halo_id halo_halfmass_radius halo_vy halo_vz  halo_flags halo_klypin_rs  halo_rs  halo_kin_to_pot halo_N          halo_J [3]         halo_hostid\n",
       "  int64         float32                int64                 float32          float32        float32         int64       int64    float32    float32  float32       float32        float32       float32        float32     float32      float32     float32      float32      float32         float32                float32             float32     int64          int64          int32    float32       int64         float32   float32 float32  float32     float32      int64        int32            float32         float32   float32        float32              int32        float32           float32          float32  float32   int64        float32        float32 float32    int64       float32      float32      float32     int32            float32              int64   \n",
       "--------- ------------------- ------------------------ -------------------- ------------ ---------------- ------------ --------- ---------- --------- -------- ----------------- ----------- ---------------- ----------- ------------ ----------- ------------ ------------ ----------- ------------------- -------------------------- ----------- ---------- ------------------ --------- --------- ---------------- ----------- ------- ------- ---------- ----------- ----------- -------------- -------------------- --------- --------- -------------------- ----------------- --------- ------------------------- ------- --------- ------- -------------------- ------- -------- ---------- -------------- --------- --------------- ------ --------------------------- -----------\n",
       "   569974 14.8675 .. -12.6811                      207 -152.748 .. -599.933 -7.82279e+15          751.386     32769850         0  0.0342442  0.202554 -152.748         0.0234053    0.267052      4.50487e-05 3.90289e+11     0.947171 1.33911e+12  0.000278079     0.597965 9.18326e+11 -1.91093 .. 25.4669 9.18326e+11 .. 3.90289e+11 1.44636e+12        207              50850       841  0.020859               17    0.655851 31.8827 145.677 9.6539e+12    0.514556          53       80 .. 34              751.386   203.216   18.2015 -152.748 .. -599.933         841 .. 46   195.099 9.6539e+12 .. 5.28038e+11 45.7946   13.8211  569976             0.059089 859.761 -599.933         25      0.0133996 0.0133996        0.708265    126 -5.92084e+11 .. 5.50002e+11      569974"
      ]
     },
     "execution_count": 19,
     "metadata": {},
     "output_type": "execute_result"
    }
   ],
   "source": [
    "halos[i]"
   ]
  },
  {
   "cell_type": "code",
   "execution_count": 20,
   "metadata": {
    "scrolled": false
   },
   "outputs": [
    {
     "data": {
      "text/html": [
       "&lt;Table length=17&gt;\n",
       "<table id=\"table140514222685200\" class=\"table-striped table-bordered table-condensed\">\n",
       "<thead><tr><th>y</th><th>x</th><th>vx</th><th>vy</th><th>vz</th><th>z</th></tr></thead>\n",
       "<thead><tr><th>float32</th><th>float32</th><th>float32</th><th>float32</th><th>float32</th><th>float32</th></tr></thead>\n",
       "<tr><td>46.0763</td><td>31.5762</td><td>-469.43</td><td>693.177</td><td>-122.842</td><td>145.953</td></tr>\n",
       "<tr><td>45.9182</td><td>31.9297</td><td>-362.675</td><td>732.662</td><td>-49.7216</td><td>145.876</td></tr>\n",
       "<tr><td>45.7995</td><td>31.8661</td><td>-356.46</td><td>859.617</td><td>-504.528</td><td>145.8</td></tr>\n",
       "<tr><td>46.2259</td><td>31.8782</td><td>-213.51</td><td>829.181</td><td>-650.768</td><td>145.767</td></tr>\n",
       "<tr><td>45.6115</td><td>31.8745</td><td>-301.62</td><td>885.666</td><td>-222.102</td><td>145.736</td></tr>\n",
       "<tr><td>45.4404</td><td>32.0737</td><td>-425.01</td><td>585.417</td><td>-160.407</td><td>145.709</td></tr>\n",
       "<tr><td>46.2333</td><td>31.8689</td><td>-276.394</td><td>731.2</td><td>-451.882</td><td>145.694</td></tr>\n",
       "<tr><td>45.8359</td><td>31.7978</td><td>-87.744</td><td>830.643</td><td>-365.6</td><td>145.69</td></tr>\n",
       "<tr><td>45.8191</td><td>31.9025</td><td>-235.446</td><td>1061.7</td><td>-548.4</td><td>145.668</td></tr>\n",
       "<tr><td>45.5405</td><td>31.9914</td><td>-490.818</td><td>774.615</td><td>-296.136</td><td>145.663</td></tr>\n",
       "<tr><td>45.7911</td><td>31.8062</td><td>-242.667</td><td>549.771</td><td>-659.451</td><td>145.656</td></tr>\n",
       "<tr><td>45.7752</td><td>31.9128</td><td>-315.33</td><td>913.086</td><td>-748.566</td><td>145.624</td></tr>\n",
       "<tr><td>45.5246</td><td>31.7501</td><td>-677.274</td><td>952.845</td><td>-346.863</td><td>145.624</td></tr>\n",
       "<tr><td>45.7658</td><td>31.8362</td><td>-153.552</td><td>686.871</td><td>-652.596</td><td>145.62</td></tr>\n",
       "<tr><td>45.8537</td><td>31.9867</td><td>-225.21</td><td>884.752</td><td>-67.2704</td><td>145.575</td></tr>\n",
       "<tr><td>45.8023</td><td>31.8829</td><td>50.727</td><td>793.809</td><td>-788.325</td><td>145.562</td></tr>\n",
       "<tr><td>45.7901</td><td>31.9222</td><td>-227.586</td><td>1125.59</td><td>-667.677</td><td>145.341</td></tr>\n",
       "</table>"
      ],
      "text/plain": [
       "<Table length=17>\n",
       "   y       x       vx       vy      vz       z   \n",
       "float32 float32 float32  float32 float32  float32\n",
       "------- ------- -------- ------- -------- -------\n",
       "46.0763 31.5762  -469.43 693.177 -122.842 145.953\n",
       "45.9182 31.9297 -362.675 732.662 -49.7216 145.876\n",
       "45.7995 31.8661  -356.46 859.617 -504.528   145.8\n",
       "46.2259 31.8782  -213.51 829.181 -650.768 145.767\n",
       "45.6115 31.8745  -301.62 885.666 -222.102 145.736\n",
       "45.4404 32.0737  -425.01 585.417 -160.407 145.709\n",
       "46.2333 31.8689 -276.394   731.2 -451.882 145.694\n",
       "45.8359 31.7978  -87.744 830.643   -365.6  145.69\n",
       "45.8191 31.9025 -235.446  1061.7   -548.4 145.668\n",
       "45.5405 31.9914 -490.818 774.615 -296.136 145.663\n",
       "45.7911 31.8062 -242.667 549.771 -659.451 145.656\n",
       "45.7752 31.9128  -315.33 913.086 -748.566 145.624\n",
       "45.5246 31.7501 -677.274 952.845 -346.863 145.624\n",
       "45.7658 31.8362 -153.552 686.871 -652.596  145.62\n",
       "45.8537 31.9867  -225.21 884.752 -67.2704 145.575\n",
       "45.8023 31.8829   50.727 793.809 -788.325 145.562\n",
       "45.7901 31.9222 -227.586 1125.59 -667.677 145.341"
      ]
     },
     "execution_count": 20,
     "metadata": {},
     "output_type": "execute_result"
    }
   ],
   "source": [
    "subsamples[halos['halo_subsamp_start'][i]:halos['halo_subsamp_start'][i] + halos['halo_subsamp_len'][i]]"
   ]
  }
 ],
 "metadata": {
  "kernelspec": {
   "display_name": "Python [Root]",
   "language": "python",
   "name": "Python [Root]"
  },
  "language_info": {
   "codemirror_mode": {
    "name": "ipython",
    "version": 2
   },
   "file_extension": ".py",
   "mimetype": "text/x-python",
   "name": "python",
   "nbconvert_exporter": "python",
   "pygments_lexer": "ipython2",
   "version": "2.7.12"
  }
 },
 "nbformat": 4,
 "nbformat_minor": 2
}
