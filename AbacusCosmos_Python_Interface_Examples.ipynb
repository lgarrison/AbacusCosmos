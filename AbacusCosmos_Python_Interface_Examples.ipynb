{
 "cells": [
  {
   "cell_type": "markdown",
   "metadata": {},
   "source": [
    "# AbacusCosmos Python Interface Examples"
   ]
  },
  {
   "cell_type": "markdown",
   "metadata": {},
   "source": [
    "This notebook demonstrates the basic usage of the `AbacusCosmos.Halos` and `AbacusCosmos.Halotools` halo catalog interfaces.\n",
    "\n",
    "The AbacusCosmos Python package is available here: https://github.com/lgarrison/AbacusCosmos\n",
    "\n",
    "The catalogs are documented on the data release website: https://lgarrison.github.io/AbacusCosmos/\n",
    "\n",
    "If you encounter problems with the catalogs/Python code, please [file an issue](https://github.com/lgarrison/AbacusCosmos).  Also be sure to check the [Data Specifications](https://lgarrison.github.io/AbacusCosmos/data_specifications/), as your issue may be covered there.\n",
    "\n",
    "Author: Lehman Garrison ([@lgarrison](https://github.com/lgarrison))"
   ]
  },
  {
   "cell_type": "markdown",
   "metadata": {},
   "source": [
    "## [Halos.py](https://github.com/lgarrison/AbacusCosmos/blob/master/AbacusCosmos/Halos.py)"
   ]
  },
  {
   "cell_type": "code",
   "execution_count": 1,
   "metadata": {},
   "outputs": [
    {
     "name": "stderr",
     "output_type": "stream",
     "text": [
      "/home/lgarrison/anaconda3/lib/python3.6/site-packages/h5py/__init__.py:36: FutureWarning: Conversion of the second argument of issubdtype from `float` to `np.floating` is deprecated. In future, it will be treated as `np.float64 == np.dtype(float).type`.\n",
      "  from ._conv import register_converters as _register_converters\n"
     ]
    }
   ],
   "source": [
    "from AbacusCosmos import Halos\n",
    "\n",
    "import matplotlib.pyplot as plt\n",
    "%matplotlib inline\n",
    "import numpy as np"
   ]
  },
  {
   "cell_type": "markdown",
   "metadata": {},
   "source": [
    "### Load a single halo Rockstar catalog with particle subsamples:"
   ]
  },
  {
   "cell_type": "code",
   "execution_count": 2,
   "metadata": {},
   "outputs": [],
   "source": [
    "# The path to the catalog will be different on your system\n",
    "cat = Halos.make_catalog_from_dir(dirname='/mnt/gosling2/bigsim_products/AbacusCosmos_1100box_products/AbacusCosmos_1100box_00_products/AbacusCosmos_1100box_00_rockstar_halos/z0.300',\n",
    "                                  load_subsamples=True, load_pids=False)\n",
    "halos = cat.halos\n",
    "halo_1000 = halos[1000]\n",
    "subsamples = cat.subsamples"
   ]
  },
  {
   "cell_type": "code",
   "execution_count": 3,
   "metadata": {
    "scrolled": false
   },
   "outputs": [
    {
     "name": "stdout",
     "output_type": "stream",
     "text": [
      "A : [53.04891   5.399098 -9.398761]\n",
      "A2 : [39.850292  6.907639 -7.766779]\n",
      "J : [-1.9693516e+13  2.7946513e+13 -1.4426672e+13]\n",
      "N : 155\n",
      "N_SO : 983\n",
      "Voff : 29.62147\n",
      "Xoff : 22.592842\n",
      "alt_N : [135 121  91  29]\n",
      "alt_N_SO : [983 983 983  48]\n",
      "alt_m : [5.0370770e+12 4.5147137e+12 3.3953630e+12 1.0820388e+12]\n",
      "alt_m_SO : [3.6677385e+13 3.6677385e+13 3.6677385e+13 1.7909607e+12]\n",
      "b_to_a : 0.46212736\n",
      "b_to_a2 : 0.38154382\n",
      "bulkvel : [ -663.75305    93.82869 -1657.28   ]\n",
      "bullock_spin : 0.07133085\n",
      "c_to_a : 0.33044723\n",
      "c_to_a2 : 0.27497157\n",
      "child_r : 0.43996406\n",
      "corevel : [ -682.8728    108.45962 -1700.5497 ]\n",
      "desc : 0\n",
      "energy : -9.7564e+16\n",
      "flags : 25\n",
      "halfmass_radius : 154.01212\n",
      "id : 298710\n",
      "kin_to_pot : 0.7260747\n",
      "klypin_rs : 49.53651\n",
      "m : 5783311000000.0\n",
      "m_SO : 36677385000000.0\n",
      "m_pe_b : 5295078600000.0\n",
      "m_pe_d : 3507298200000.0\n",
      "mgrav : 4775895600000.0\n",
      "min_bulkvel_err : 984.3729\n",
      "min_pos_err : 0.00025078392\n",
      "min_vel_err : 1050.1628\n",
      "n_core : 98\n",
      "num_child_particles : 206\n",
      "num_p : 206\n",
      "p_start : 73900406\n",
      "parent_id : 298727\n",
      "pos : [426.93628   15.228214 237.38449 ]\n",
      "r : 375.43213\n",
      "rs : 55.43358\n",
      "rvmax : 237.90572\n",
      "spin : 0.054060824\n",
      "subsamp_len : 18\n",
      "subsamp_start : 40967\n",
      "vel : [ -682.8728    108.45962 -1700.5497 ]\n",
      "vmax : 303.44504\n",
      "vmax_r : 0.43149778\n",
      "vrms : 326.53113\n"
     ]
    }
   ],
   "source": [
    "for field in sorted(halo_1000.dtype.fields):\n",
    "    print(field, ':', halo_1000[field])"
   ]
  },
  {
   "cell_type": "markdown",
   "metadata": {},
   "source": [
    "The subsample particles should be near the halo location of `[426.93628   15.228214 237.38449 ]`, and indeed they are:"
   ]
  },
  {
   "cell_type": "code",
   "execution_count": 4,
   "metadata": {
    "scrolled": false
   },
   "outputs": [
    {
     "name": "stdout",
     "output_type": "stream",
     "text": [
      "[[426.9143     15.245714  237.90285  ]\n",
      " [427.37714    15.368571  237.59572  ]\n",
      " [427.23428    15.095714  237.58429  ]\n",
      " [426.94427    15.0671425 237.53714  ]\n",
      " [426.8857     15.225714  237.47571  ]\n",
      " [426.9057     15.158571  237.44286  ]\n",
      " [426.75427    15.267143  237.44142  ]\n",
      " [427.12286    15.108572  237.42     ]\n",
      " [427.1643     15.288571  237.35858  ]\n",
      " [426.79858    15.330001  237.34572  ]\n",
      " [426.9586     15.265714  237.34143  ]\n",
      " [426.9943     15.207143  237.32713  ]\n",
      " [426.67285    15.554285  237.28142  ]\n",
      " [426.94858    15.187143  237.28     ]\n",
      " [427.09717    15.387142  237.17857  ]\n",
      " [426.53857    15.372857  237.11143  ]\n",
      " [426.64716    15.35      236.78427  ]\n",
      " [427.06       15.085714  236.72856  ]]\n"
     ]
    }
   ],
   "source": [
    "particles_for_halo_1000 = subsamples[halo_1000['subsamp_start']:halo_1000['subsamp_start']+halo_1000['subsamp_len']]\n",
    "print(particles_for_halo_1000['pos'])"
   ]
  },
  {
   "cell_type": "markdown",
   "metadata": {},
   "source": [
    "### Filter out subhalos:"
   ]
  },
  {
   "cell_type": "markdown",
   "metadata": {},
   "source": [
    "Note that the above halo is actually a subhalo since its `parent_id` is not `-1`.  Let's see what fraction of Rockstar halos are actually subhalos:"
   ]
  },
  {
   "cell_type": "code",
   "execution_count": 5,
   "metadata": {},
   "outputs": [
    {
     "data": {
      "text/plain": [
       "0.09474006531180443"
      ]
     },
     "execution_count": 5,
     "metadata": {},
     "output_type": "execute_result"
    }
   ],
   "source": [
    "(halos['parent_id'] != -1).mean()"
   ]
  },
  {
   "cell_type": "markdown",
   "metadata": {},
   "source": [
    "So about 10% are subhalos.  For some analyses you might want to only include top-level parent halos, since Rockstar halo masses always include substructure mass:"
   ]
  },
  {
   "cell_type": "code",
   "execution_count": 6,
   "metadata": {},
   "outputs": [
    {
     "name": "stdout",
     "output_type": "stream",
     "text": [
      "# halos before subhalo filtering: 9565499\n",
      "# halos after subhalo filtering: 8659263\n"
     ]
    }
   ],
   "source": [
    "print('# halos before subhalo filtering:', len(halos))\n",
    "halos = halos[halos['parent_id'] == -1]\n",
    "print('# halos after subhalo filtering:', len(halos))"
   ]
  },
  {
   "cell_type": "markdown",
   "metadata": {},
   "source": [
    "### Load all redshifts of a FoF catalog:"
   ]
  },
  {
   "cell_type": "code",
   "execution_count": 7,
   "metadata": {
    "scrolled": false
   },
   "outputs": [],
   "source": [
    "cats_by_z = Halos.make_catalogs(sim_name='emulator_1100box_planck_00',\n",
    "                                products_dir='/mnt/gosling2/bigsim_products/emulator_1100box_planck_products/',\n",
    "                                redshifts='all', load_phases=False, load_subsamples=False, halo_type='FoF')"
   ]
  },
  {
   "cell_type": "markdown",
   "metadata": {},
   "source": [
    "We can plot the evolution of the halo mass function with redshift:"
   ]
  },
  {
   "cell_type": "code",
   "execution_count": 8,
   "metadata": {
    "scrolled": true
   },
   "outputs": [
    {
     "data": {
      "text/plain": [
       "<matplotlib.legend.Legend at 0x7fe5c60e2ba8>"
      ]
     },
     "execution_count": 8,
     "metadata": {},
     "output_type": "execute_result"
    },
    {
     "data": {
      "image/png": "[encoded data removed]",
      "text/plain": [
       "<matplotlib.figure.Figure at 0x7fe6281d6128>"
      ]
     },
     "metadata": {},
     "output_type": "display_data"
    }
   ],
   "source": [
    "fig, ax = plt.subplots()\n",
    "for z in sorted(cats_by_z.keys()):\n",
    "    cat = cats_by_z[z]\n",
    "    bin_edges, bin_centers, hist = Halos.halo_mass_hist(cat.halos[0]['N'])\n",
    "    ax.loglog(bin_centers, hist, label='$z = {:.2f}$'.format(z))\n",
    "ax.set_xlabel('Halo mass [# of particles]')\n",
    "ax.set_ylabel('Number of halos')\n",
    "ax.legend()"
   ]
  },
  {
   "cell_type": "markdown",
   "metadata": {},
   "source": [
    "## [Halotools.py](https://github.com/lgarrison/AbacusCosmos/blob/master/AbacusCosmos/Halotools.py)"
   ]
  },
  {
   "cell_type": "code",
   "execution_count": 9,
   "metadata": {},
   "outputs": [],
   "source": [
    "from AbacusCosmos import Halotools\n",
    "import halotools\n",
    "\n",
    "import matplotlib.pyplot as plt\n",
    "%matplotlib inline\n",
    "import numpy as np"
   ]
  },
  {
   "cell_type": "markdown",
   "metadata": {},
   "source": [
    "### Load two different cosmologies at redshift 0.1:"
   ]
  },
  {
   "cell_type": "code",
   "execution_count": 10,
   "metadata": {},
   "outputs": [],
   "source": [
    "cats = Halotools.make_catalogs(sim_name='AbacusCosmos_720box', cosmologies=[0,1], redshifts=0.1,\n",
    "                                products_dir='/mnt/gosling2/bigsim_products/AbacusCosmos_720box_products/',\n",
    "                                phases=None, halo_type='Rockstar', load_halo_ptcl_catalog=False)"
   ]
  },
  {
   "cell_type": "markdown",
   "metadata": {},
   "source": [
    "Generate mock galaxy catalogs for both:"
   ]
  },
  {
   "cell_type": "code",
   "execution_count": 11,
   "metadata": {},
   "outputs": [],
   "source": [
    "for cat in cats:\n",
    "    # First apply an arbitrary mass cut to make the example run faster\n",
    "    cat.halo_table = cat.halo_table[cat.halo_table['halo_N'] >= 100]\n",
    "    # Make an approximate concentration column for mock purposes\n",
    "    cat.halo_table['halo_conc'] = cat.halo_table['halo_rvir'] / cat.halo_table['halo_klypin_rs']"
   ]
  },
  {
   "cell_type": "code",
   "execution_count": 12,
   "metadata": {},
   "outputs": [],
   "source": [
    "from halotools.empirical_models import PrebuiltHodModelFactory\n",
    "models = []\n",
    "for cat in cats:\n",
    "    model = PrebuiltHodModelFactory('zheng07', redshift=cats[0].redshift, concentration_key='halo_conc')\n",
    "    model.populate_mock(cat)\n",
    "    models += [model]"
   ]
  },
  {
   "cell_type": "markdown",
   "metadata": {},
   "source": [
    "Compute the 2PCF on the mock galaxies:"
   ]
  },
  {
   "cell_type": "code",
   "execution_count": 13,
   "metadata": {},
   "outputs": [],
   "source": [
    "import Corrfunc\n",
    "bins = np.logspace(-1,1.5,25)\n",
    "bin_centers = (bins[:-1] + bins[1:])/2.\n",
    "tpcfs = []\n",
    "for model in models:\n",
    "    gals = model.mock.galaxy_table\n",
    "    results = Corrfunc.theory.xi(X=gals['x'], Y=gals['y'], Z=gals['z'],\n",
    "                            boxsize=model.mock.BoxSize, nthreads=4,\n",
    "                            binfile=bins)\n",
    "    tpcfs += [results]"
   ]
  },
  {
   "cell_type": "code",
   "execution_count": 14,
   "metadata": {},
   "outputs": [
    {
     "data": {
      "text/plain": [
       "Text(0,0.5,'$\\\\xi(s)$')"
      ]
     },
     "execution_count": 14,
     "metadata": {},
     "output_type": "execute_result"
    },
    {
     "data": {
      "image/png": "[encoded data removed]",
      "text/plain": [
       "<matplotlib.figure.Figure at 0x7fe69c33e198>"
      ]
     },
     "metadata": {},
     "output_type": "display_data"
    }
   ],
   "source": [
    "plt.loglog(bin_centers, tpcfs[0]['xi'], label=cats[0].SimName)\n",
    "plt.loglog(bin_centers, tpcfs[1]['xi'], label=cats[1].SimName)\n",
    "plt.legend()\n",
    "plt.xlabel(r'galaxy separation $s$ [Mpc/h]')\n",
    "plt.ylabel(r'$\\xi(s)$')"
   ]
  },
  {
   "cell_type": "markdown",
   "metadata": {},
   "source": [
    "### Print the particle subsamples for the 1000th halo in the second cosmology:"
   ]
  },
  {
   "cell_type": "code",
   "execution_count": 15,
   "metadata": {},
   "outputs": [],
   "source": [
    "cats = Halotools.make_catalogs(sim_name='AbacusCosmos_720box', cosmologies=[0,1], redshifts=0.1,\n",
    "                                products_dir='/mnt/gosling2/bigsim_products/AbacusCosmos_720box_products/',\n",
    "                                phases=None, halo_type='Rockstar', load_halo_ptcl_catalog=True)"
   ]
  },
  {
   "cell_type": "code",
   "execution_count": 16,
   "metadata": {},
   "outputs": [],
   "source": [
    "halos = cats[1].halo_table\n",
    "subsamples = cats[1].halo_ptcl_table\n",
    "i = 999"
   ]
  },
  {
   "cell_type": "code",
   "execution_count": 17,
   "metadata": {},
   "outputs": [
    {
     "data": {
      "text/html": [
       "&lt;Row index=999&gt;\n",
       "<table id=\"table140628049882248\">\n",
       "<thead><tr><th>halo_id</th><th>halo_corevel [3]</th><th>halo_bulkvel [3]</th><th>halo_m_SO</th><th>halo_child_r</th><th>halo_vmax_r</th><th>halo_mgrav</th><th>halo_vmax</th><th>halo_rvmax</th><th>halo_rs</th><th>halo_klypin_rs</th><th>halo_vrms</th><th>halo_J [3]</th><th>halo_energy</th><th>halo_spin</th><th>halo_alt_m [4]</th><th>halo_alt_m_SO [4]</th><th>halo_Xoff</th><th>halo_Voff</th><th>halo_b_to_a</th><th>halo_c_to_a</th><th>halo_A [3]</th><th>halo_b_to_a2</th><th>halo_c_to_a2</th><th>halo_A2 [3]</th><th>halo_bullock_spin</th><th>halo_kin_to_pot</th><th>halo_m_pe_b</th><th>halo_m_pe_d</th><th>halo_halfmass_radius</th><th>halo_num_p</th><th>halo_num_child_particles</th><th>halo_p_start</th><th>halo_desc</th><th>halo_flags</th><th>halo_n_core</th><th>halo_subsamp_start</th><th>halo_subsamp_len</th><th>halo_min_pos_err</th><th>halo_min_vel_err</th><th>halo_min_bulkvel_err</th><th>halo_N</th><th>halo_alt_N [4]</th><th>halo_N_SO</th><th>halo_alt_N_SO [4]</th><th>halo_mvir</th><th>halo_rvir</th><th>halo_x</th><th>halo_y</th><th>halo_z</th><th>halo_vx</th><th>halo_vy</th><th>halo_vz</th><th>halo_upid</th><th>halo_hostid</th></tr></thead>\n",
       "<thead><tr><th>int64</th><th>float32</th><th>float32</th><th>float32</th><th>float32</th><th>float32</th><th>float32</th><th>float32</th><th>float32</th><th>float32</th><th>float32</th><th>float32</th><th>float32</th><th>float32</th><th>float32</th><th>float32</th><th>float32</th><th>float32</th><th>float32</th><th>float32</th><th>float32</th><th>float32</th><th>float32</th><th>float32</th><th>float32</th><th>float32</th><th>float32</th><th>float32</th><th>float32</th><th>float32</th><th>int64</th><th>int64</th><th>int64</th><th>int64</th><th>int64</th><th>int64</th><th>int64</th><th>int64</th><th>float32</th><th>float32</th><th>float32</th><th>int32</th><th>int32</th><th>int32</th><th>int32</th><th>float32</th><th>float32</th><th>float32</th><th>float32</th><th>float32</th><th>float32</th><th>float32</th><th>float32</th><th>int64</th><th>int64</th></tr></thead>\n",
       "<tr><td>569976</td><td>-152.74799 .. -599.93256</td><td>-152.74799 .. -599.93256</td><td>9653903000000.0</td><td>0.00027807892</td><td>0.26705223</td><td>918326100000.0</td><td>195.09929</td><td>0.034244202</td><td>0.013399579</td><td>0.013399579</td><td>203.21617</td><td>-592084000000.0 .. 550002360000.0</td><td>-7822789500000000.0</td><td>0.02085905</td><td>918326100000.0 .. 390288570000.0</td><td>9653903000000.0 .. 528037500000.0</td><td>13.82113</td><td>18.201519</td><td>0.6558509</td><td>0.51455605</td><td>-1.9109313 .. 25.46689</td><td>0.9471713</td><td>0.59796464</td><td>14.867451 .. -12.681051</td><td>0.023405345</td><td>0.7082647</td><td>1339113500000.0</td><td>390288570000.0</td><td>0.059088998</td><td>207</td><td>207</td><td>32769850</td><td>0</td><td>25</td><td>53</td><td>50850</td><td>17</td><td>4.5048728e-05</td><td>751.38617</td><td>751.38617</td><td>126</td><td>80 .. 34</td><td>841</td><td>841 .. 46</td><td>1446363500000.0</td><td>0.20255421</td><td>31.882689</td><td>45.794632</td><td>145.67741</td><td>-152.74799</td><td>859.7607</td><td>-599.93256</td><td>569974</td><td>569974</td></tr>\n",
       "</table>"
      ],
      "text/plain": [
       "<Row index=999>\n",
       "halo_id     halo_corevel [3]         halo_bulkvel [3]        halo_m_SO     halo_child_r halo_vmax_r   halo_mgrav   halo_vmax  halo_rvmax   halo_rs   halo_klypin_rs halo_vrms             halo_J [3]                halo_energy     halo_spin           halo_alt_m [4]                  halo_alt_m_SO [4]         halo_Xoff halo_Voff halo_b_to_a halo_c_to_a       halo_A [3]       halo_b_to_a2 halo_c_to_a2       halo_A2 [3]       halo_bullock_spin halo_kin_to_pot   halo_m_pe_b    halo_m_pe_d   halo_halfmass_radius halo_num_p halo_num_child_particles halo_p_start halo_desc halo_flags halo_n_core halo_subsamp_start halo_subsamp_len halo_min_pos_err halo_min_vel_err halo_min_bulkvel_err halo_N halo_alt_N [4] halo_N_SO halo_alt_N_SO [4]    halo_mvir    halo_rvir    halo_x    halo_y    halo_z   halo_vx   halo_vy   halo_vz   halo_upid halo_hostid\n",
       " int64          float32                  float32              float32        float32      float32      float32      float32    float32     float32      float32      float32               float32                    float32        float32               float32                           float32               float32   float32    float32     float32          float32           float32      float32            float32              float32          float32         float32        float32           float32          int64             int64              int64       int64     int64       int64          int64             int64           float32          float32            float32        int32      int32        int32         int32           float32      float32    float32   float32   float32   float32   float32   float32     int64      int64   \n",
       "------- ------------------------ ------------------------ --------------- ------------- ----------- -------------- --------- ----------- ----------- -------------- --------- --------------------------------- ------------------- ---------- -------------------------------- --------------------------------- --------- --------- ----------- ----------- ---------------------- ------------ ------------ ----------------------- ----------------- --------------- --------------- -------------- -------------------- ---------- ------------------------ ------------ --------- ---------- ----------- ------------------ ---------------- ---------------- ---------------- -------------------- ------ -------------- --------- ----------------- --------------- ---------- --------- --------- --------- ---------- -------- ---------- --------- -----------\n",
       " 569976 -152.74799 .. -599.93256 -152.74799 .. -599.93256 9653903000000.0 0.00027807892  0.26705223 918326100000.0 195.09929 0.034244202 0.013399579    0.013399579 203.21617 -592084000000.0 .. 550002360000.0 -7822789500000000.0 0.02085905 918326100000.0 .. 390288570000.0 9653903000000.0 .. 528037500000.0  13.82113 18.201519   0.6558509  0.51455605 -1.9109313 .. 25.46689    0.9471713   0.59796464 14.867451 .. -12.681051       0.023405345       0.7082647 1339113500000.0 390288570000.0          0.059088998        207                      207     32769850         0         25          53              50850               17    4.5048728e-05        751.38617            751.38617    126       80 .. 34       841         841 .. 46 1446363500000.0 0.20255421 31.882689 45.794632 145.67741 -152.74799 859.7607 -599.93256    569974      569974"
      ]
     },
     "execution_count": 17,
     "metadata": {},
     "output_type": "execute_result"
    }
   ],
   "source": [
    "halos[i]"
   ]
  },
  {
   "cell_type": "code",
   "execution_count": 18,
   "metadata": {
    "scrolled": false
   },
   "outputs": [
    {
     "data": {
      "text/html": [
       "&lt;Table length=17&gt;\n",
       "<table id=\"table140628117982904\" class=\"table-striped table-bordered table-condensed\">\n",
       "<thead><tr><th>x</th><th>y</th><th>z</th><th>vx</th><th>vy</th><th>vz</th><th>pid</th></tr></thead>\n",
       "<thead><tr><th>float32</th><th>float32</th><th>float32</th><th>float32</th><th>float32</th><th>float32</th><th>int64</th></tr></thead>\n",
       "<tr><td>31.57621</td><td>46.07626</td><td>145.95335</td><td>-469.4303</td><td>693.1775</td><td>-122.841576</td><td>1637243587</td></tr>\n",
       "<tr><td>31.929663</td><td>45.918232</td><td>145.87573</td><td>-362.6751</td><td>732.6623</td><td>-49.72159</td><td>1620647597</td></tr>\n",
       "<tr><td>31.866077</td><td>45.79948</td><td>145.8</td><td>-356.45993</td><td>859.6168</td><td>-504.5279</td><td>1622709673</td></tr>\n",
       "<tr><td>31.878233</td><td>46.225872</td><td>145.76727</td><td>-213.51036</td><td>829.18066</td><td>-650.7679</td><td>1628931922</td></tr>\n",
       "<tr><td>31.874493</td><td>45.611534</td><td>145.7364</td><td>-301.61993</td><td>885.6658</td><td>-222.10194</td><td>1631011277</td></tr>\n",
       "<tr><td>32.07366</td><td>45.440414</td><td>145.7093</td><td>-425.00992</td><td>585.4169</td><td>-160.40697</td><td>1612335919</td></tr>\n",
       "<tr><td>31.868883</td><td>46.23335</td><td>145.69434</td><td>-276.39355</td><td>731.1998</td><td>-451.8815</td><td>1616498956</td></tr>\n",
       "<tr><td>31.79782</td><td>45.83595</td><td>145.68967</td><td>-87.74398</td><td>830.643</td><td>-365.5999</td><td>1631009831</td></tr>\n",
       "<tr><td>31.902546</td><td>45.819115</td><td>145.66815</td><td>-235.44635</td><td>1061.7021</td><td>-548.3999</td><td>1628939112</td></tr>\n",
       "<tr><td>31.991377</td><td>45.540466</td><td>145.66254</td><td>-490.8179</td><td>774.6148</td><td>-296.13596</td><td>1628934790</td></tr>\n",
       "<tr><td>31.806232</td><td>45.791065</td><td>145.65599</td><td>-242.66695</td><td>549.7709</td><td>-659.45087</td><td>1624786154</td></tr>\n",
       "<tr><td>31.912832</td><td>45.77517</td><td>145.6242</td><td>-315.32993</td><td>913.0858</td><td>-748.5658</td><td>1631006954</td></tr>\n",
       "<tr><td>31.75013</td><td>45.52457</td><td>145.6242</td><td>-677.27386</td><td>952.84485</td><td>-346.86295</td><td>1579159738</td></tr>\n",
       "<tr><td>31.836155</td><td>45.76582</td><td>145.62047</td><td>-153.55197</td><td>686.87085</td><td>-652.5959</td><td>1628931911</td></tr>\n",
       "<tr><td>31.986702</td><td>45.853714</td><td>145.57465</td><td>-225.20955</td><td>884.75183</td><td>-67.270386</td><td>1604057349</td></tr>\n",
       "<tr><td>31.88291</td><td>45.802288</td><td>145.56157</td><td>50.72699</td><td>793.80884</td><td>-788.3248</td><td>1626864073</td></tr>\n",
       "<tr><td>31.922182</td><td>45.79013</td><td>145.34088</td><td>-227.58595</td><td>1125.5907</td><td>-667.6769</td><td>1628931917</td></tr>\n",
       "</table>"
      ],
      "text/plain": [
       "<Table length=17>\n",
       "    x         y         z         vx         vy         vz        pid    \n",
       " float32   float32   float32   float32    float32    float32     int64   \n",
       "--------- --------- --------- ---------- --------- ----------- ----------\n",
       " 31.57621  46.07626 145.95335  -469.4303  693.1775 -122.841576 1637243587\n",
       "31.929663 45.918232 145.87573  -362.6751  732.6623   -49.72159 1620647597\n",
       "31.866077  45.79948     145.8 -356.45993  859.6168   -504.5279 1622709673\n",
       "31.878233 46.225872 145.76727 -213.51036 829.18066   -650.7679 1628931922\n",
       "31.874493 45.611534  145.7364 -301.61993  885.6658  -222.10194 1631011277\n",
       " 32.07366 45.440414  145.7093 -425.00992  585.4169  -160.40697 1612335919\n",
       "31.868883  46.23335 145.69434 -276.39355  731.1998   -451.8815 1616498956\n",
       " 31.79782  45.83595 145.68967  -87.74398   830.643   -365.5999 1631009831\n",
       "31.902546 45.819115 145.66815 -235.44635 1061.7021   -548.3999 1628939112\n",
       "31.991377 45.540466 145.66254  -490.8179  774.6148  -296.13596 1628934790\n",
       "31.806232 45.791065 145.65599 -242.66695  549.7709  -659.45087 1624786154\n",
       "31.912832  45.77517  145.6242 -315.32993  913.0858   -748.5658 1631006954\n",
       " 31.75013  45.52457  145.6242 -677.27386 952.84485  -346.86295 1579159738\n",
       "31.836155  45.76582 145.62047 -153.55197 686.87085   -652.5959 1628931911\n",
       "31.986702 45.853714 145.57465 -225.20955 884.75183  -67.270386 1604057349\n",
       " 31.88291 45.802288 145.56157   50.72699 793.80884   -788.3248 1626864073\n",
       "31.922182  45.79013 145.34088 -227.58595 1125.5907   -667.6769 1628931917"
      ]
     },
     "execution_count": 18,
     "metadata": {},
     "output_type": "execute_result"
    }
   ],
   "source": [
    "subsamples[halos['halo_subsamp_start'][i]:halos['halo_subsamp_start'][i] + halos['halo_subsamp_len'][i]]"
   ]
  }
 ],
 "metadata": {
  "kernelspec": {
   "display_name": "Python 3",
   "language": "python",
   "name": "python3"
  },
  "language_info": {
   "codemirror_mode": {
    "name": "ipython",
    "version": 3
   },
   "file_extension": ".py",
   "mimetype": "text/x-python",
   "name": "python",
   "nbconvert_exporter": "python",
   "pygments_lexer": "ipython3",
   "version": "3.6.4"
  }
 },
 "nbformat": 4,
 "nbformat_minor": 2
}
